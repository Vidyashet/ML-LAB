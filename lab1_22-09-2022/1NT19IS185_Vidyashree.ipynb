{
 "cells": [
  {
   "cell_type": "code",
   "execution_count": 1,
   "metadata": {
    "scrolled": true
   },
   "outputs": [
    {
     "name": "stdout",
     "output_type": "stream",
     "text": [
      "vidya\n"
     ]
    }
   ],
   "source": [
    "print(\"vidya\")"
   ]
  },
  {
   "cell_type": "code",
   "execution_count": 3,
   "metadata": {},
   "outputs": [
    {
     "name": "stdout",
     "output_type": "stream",
     "text": [
      "Enter the number5\n",
      "Enter5\n",
      "10\n"
     ]
    }
   ],
   "source": [
    "a=int(input(\"Enter the number\"))\n",
    "b=int(input(\"Enter\"))\n",
    "sum=a+b\n",
    "print(sum)"
   ]
  },
  {
   "cell_type": "code",
   "execution_count": 8,
   "metadata": {},
   "outputs": [
    {
     "name": "stdout",
     "output_type": "stream",
     "text": [
      "Enter the size of list4\n",
      "Enter the element1\n",
      "Enter the element2\n",
      "Enter the element3\n",
      "Enter the element4\n",
      "Enter the element to be searched3\n",
      "Element fount at location  2\n"
     ]
    }
   ],
   "source": [
    "def linear(list1,n,ele):\n",
    "    for i in range(0,n):\n",
    "        if(ele==list1[i]):\n",
    "            return i\n",
    "    return -1\n",
    "\n",
    "list1=list()\n",
    "n=int(input(\"Enter the size of list\"))\n",
    "for i in range(0,n):\n",
    "    a=input(\"Enter the element\")\n",
    "    list1.append(a)\n",
    "ele=input(\"Enter the element to be searched\")\n",
    "res=linear(list1,n,ele)\n",
    "if(res==-1):\n",
    "    print(\"Element not found\")\n",
    "else:\n",
    "    print(\"Element fount at location \",res)"
   ]
  },
  {
   "cell_type": "code",
   "execution_count": 11,
   "metadata": {},
   "outputs": [
    {
     "name": "stdout",
     "output_type": "stream",
     "text": [
      "Enter the size of list7\n",
      "Enter the element1\n",
      "Enter the element2\n",
      "Enter the element3\n",
      "Enter the element4\n",
      "Enter the element5\n",
      "Enter the element6\n",
      "Enter the element7\n",
      "Enter the element to be searched6\n",
      "Element fount at location  5\n"
     ]
    }
   ],
   "source": [
    "def binary(list1,low,high,ele):\n",
    "    mid=(low+high)/2\n",
    "    if(ele==list1):\n",
    "        return mid\n",
    "    if(list1[mid]>ele):\n",
    "        return binary(list1,low,mid-1,ele)\n",
    "    if(list1[mid]<ele):\n",
    "        return binary(list1,mid+1,high,ele)\n",
    "list1=list()\n",
    "n=int(input(\"Enter the size of list\"))\n",
    "for i in range(0,n):\n",
    "    a=input(\"Enter the element\")\n",
    "    list1.append(a)\n",
    "ele=input(\"Enter the element to be searched\")\n",
    "res=linear(list1,n,ele)\n",
    "if(res==-1):\n",
    "    print(\"Element not found\")\n",
    "else:\n",
    "    print(\"Element fount at location \",res)"
   ]
  },
  {
   "cell_type": "code",
   "execution_count": 15,
   "metadata": {},
   "outputs": [
    {
     "name": "stdout",
     "output_type": "stream",
     "text": [
      "Enter the size of list5\n",
      "Enter the element1\n",
      "Enter the element3\n",
      "Enter the element2\n",
      "Enter the element4\n",
      "Enter the element5\n",
      "['1', '2', '3', '4', '5']\n"
     ]
    }
   ],
   "source": [
    "def selection_sort(list1,n):\n",
    "    for i in range(0,n):\n",
    "        min=i\n",
    "        for j in range(i+1,n):\n",
    "            if(list1[j]<list1[min]):\n",
    "                min=j\n",
    "        (list1[i],list1[min])=(list1[min],list1[i])\n",
    "\n",
    "list1=list()\n",
    "n=int(input(\"Enter the size of list\"))\n",
    "for i in range(0,n):\n",
    "    a=input(\"Enter the element\")\n",
    "    list1.append(a)\n",
    "selection_sort(list1,n)\n",
    "print(list1)"
   ]
  },
  {
   "cell_type": "markdown",
   "metadata": {},
   "source": []
  }
 ],
 "metadata": {
  "kernelspec": {
   "display_name": "Python 3",
   "language": "python",
   "name": "python3"
  },
  "language_info": {
   "codemirror_mode": {
    "name": "ipython",
    "version": 3
   },
   "file_extension": ".py",
   "mimetype": "text/x-python",
   "name": "python",
   "nbconvert_exporter": "python",
   "pygments_lexer": "ipython3",
   "version": "3.8.10"
  }
 },
 "nbformat": 4,
 "nbformat_minor": 4
}
