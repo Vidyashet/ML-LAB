{
 "cells": [
  {
   "cell_type": "code",
   "execution_count": 8,
   "id": "27f67ef3",
   "metadata": {},
   "outputs": [],
   "source": [
    "def getSquaredDistance(point1, point2):\n",
    "    return round(((point2[0] - point1[0])**2 + (point2[1] - point1[1])**2),4)"
   ]
  },
  {
   "cell_type": "code",
   "execution_count": 11,
   "id": "9dabc19a",
   "metadata": {},
   "outputs": [],
   "source": [
    "def getDistanceFromPoints(centroids, datapoints):\n",
    "    distance_from_cluster = []     # [cluster1_distances, cluster2_distances,...]\n",
    "    intermediate_result = []\n",
    "    for i in centroids:\n",
    "        for j in datapoints:\n",
    "            intermediate_result.append(getSquaredDistance(i,j))\n",
    "        distance_from_cluster.append(intermediate_result)\n",
    "        intermediate_result = []   # reset intermediate_result as empty list\n",
    "    return distance_from_cluster"
   ]
  },
  {
   "cell_type": "code",
   "execution_count": 12,
   "id": "648c92e2",
   "metadata": {},
   "outputs": [],
   "source": [
    "import pandas as pd"
   ]
  },
  {
   "cell_type": "code",
   "execution_count": 13,
   "id": "a32553a4",
   "metadata": {},
   "outputs": [],
   "source": [
    "\n",
    "def printResult(centroids, point_to_cluster_mapping):\n",
    "    for i in range(len(centroids)):\n",
    "        print(\"Centroid\",i,centroids[i])\n",
    "    for i in point_to_cluster_mapping:\n",
    "        print(\"Point: \",i,\"Cluster:\",point_to_cluster_mapping[i])"
   ]
  },
  {
   "cell_type": "code",
   "execution_count": 14,
   "id": "d27de1bb",
   "metadata": {},
   "outputs": [],
   "source": [
    "def kmeansclustering(centroids, datapoints):\n",
    "    '''\n",
    "    Driver code for K-Means clustering\n",
    "    '''\n",
    "    k = len(centroids)\n",
    "    distance_from_cluster = getDistanceFromPoints(centroids, datapoints) # [cluster1_distances, cluster2_distances,...]\n",
    "    \n",
    "    \n",
    "    # assign each datapoint to the nearest cluster\n",
    "    \n",
    "    point_to_cluster_mapping = {}   # point -> cluster\n",
    "    max_valued_cluster = 0\n",
    "    for i in range(len(datapoints)):\n",
    "        point_to_cluster_mapping[i] = None  # initial mapping as None\n",
    "        for cluster in range(len(centroids)):\n",
    "            if distance_from_cluster[cluster][i] < distance_from_cluster[max_valued_cluster][i]:\n",
    "                max_valued_cluster = cluster\n",
    "        point_to_cluster_mapping[i] = max_valued_cluster\n",
    "    \n",
    "    # compute new centroids by averaging with new points\n",
    "    cluster_counter = 0       # [cluster1_new_elements_added, cluster2_new_elements_added...]\n",
    "    for i in range(len(centroids)):\n",
    "        for j in point_to_cluster_mapping:\n",
    "            if point_to_cluster_mapping[j] == i:\n",
    "                centroids[i][0] += datapoints[j][0]   # x-coordinate adding\n",
    "                centroids[i][1] += datapoints[j][1]   # y-coordinate adding\n",
    "                cluster_counter += 1\n",
    "        if cluster_counter != 0:\n",
    "            centroids[i][0] = round(centroids[i][0]/cluster_counter,4)\n",
    "            centroids[i][1] = round(centroids[i][1]/cluster_counter,4)\n",
    "            cluster_counter = 0\n",
    "        \n",
    "    printResult(centroids, point_to_cluster_mapping)\n",
    "    return centroids\n"
   ]
  },
  {
   "cell_type": "code",
   "execution_count": 20,
   "id": "be1abcba",
   "metadata": {},
   "outputs": [
    {
     "name": "stdout",
     "output_type": "stream",
     "text": [
      "\n",
      "Iteration  1\n",
      "Centroid 0 [2.5, 6.0]\n",
      "Centroid 1 [9.3333, 6.0]\n",
      "Centroid 2 [5.0, 12.0]\n",
      "Point:  0 Cluster: 2\n",
      "Point:  1 Cluster: 0\n",
      "Point:  2 Cluster: 1\n",
      "Point:  3 Cluster: 2\n",
      "Point:  4 Cluster: 1\n",
      "Point:  5 Cluster: 1\n",
      "Point:  6 Cluster: 0\n",
      "Point:  7 Cluster: 2\n",
      "\n",
      "Iteration  2\n",
      "Centroid 0 [3.5, 7.0]\n",
      "Centroid 1 [10.1111, 6.3333]\n",
      "Centroid 2 [5.5, 15.5]\n",
      "Point:  0 Cluster: 2\n",
      "Point:  1 Cluster: 0\n",
      "Point:  2 Cluster: 1\n",
      "Point:  3 Cluster: 0\n",
      "Point:  4 Cluster: 1\n",
      "Point:  5 Cluster: 1\n",
      "Point:  6 Cluster: 0\n",
      "Point:  7 Cluster: 2\n",
      "\n",
      "Iteration  3\n",
      "Centroid 0 [3.9167, 7.5]\n",
      "Centroid 1 [12.5556, 7.6667]\n",
      "Centroid 2 [5.5, 15.5]\n",
      "Point:  0 Cluster: 0\n",
      "Point:  1 Cluster: 0\n",
      "Point:  2 Cluster: 1\n",
      "Point:  3 Cluster: 0\n",
      "Point:  4 Cluster: 1\n",
      "Point:  5 Cluster: 0\n",
      "Point:  6 Cluster: 0\n",
      "Point:  7 Cluster: 0\n",
      "\n",
      "Iteration  4\n",
      "Centroid 0 [4.8646, 6.8125]\n",
      "Centroid 1 [12.5556, 7.6667]\n",
      "Centroid 2 [5.5, 15.5]\n",
      "Point:  0 Cluster: 0\n",
      "Point:  1 Cluster: 0\n",
      "Point:  2 Cluster: 0\n",
      "Point:  3 Cluster: 0\n",
      "Point:  4 Cluster: 0\n",
      "Point:  5 Cluster: 0\n",
      "Point:  6 Cluster: 0\n",
      "Point:  7 Cluster: 0\n",
      "\n",
      "Iteration  5\n",
      "Centroid 0 [4.9831, 6.7266]\n",
      "Centroid 1 [12.5556, 7.6667]\n",
      "Centroid 2 [5.5, 15.5]\n",
      "Point:  0 Cluster: 0\n",
      "Point:  1 Cluster: 0\n",
      "Point:  2 Cluster: 0\n",
      "Point:  3 Cluster: 0\n",
      "Point:  4 Cluster: 0\n",
      "Point:  5 Cluster: 0\n",
      "Point:  6 Cluster: 0\n",
      "Point:  7 Cluster: 0\n"
     ]
    }
   ],
   "source": [
    "def kmeans_iterator(centroids, datapoints):\n",
    "    old_centroids = centroids\n",
    "    new_centroids = centroids\n",
    "    iteration = 0\n",
    "    import pandas as pd\n",
    "    while iteration != 5:\n",
    "        iteration += 1\n",
    "        print(\"\\nIteration \", iteration)\n",
    "        old_centroids = new_centroids\n",
    "        new_centroids = kmeansclustering(new_centroids, datapoints)  \n",
    "\n",
    "\n",
    "centroids = [[2,5], [7,5], [4,9]]\n",
    "datapoints = [[2,10], [2,5], [8,4], [5,8], [7,5], [6,4], [1,2], [4,9]]\n",
    "\n",
    "\n",
    "kmeans_iterator(centroids, datapoints)"
   ]
  },
  {
   "cell_type": "code",
   "execution_count": null,
   "id": "aae99c5b",
   "metadata": {},
   "outputs": [],
   "source": []
  }
 ],
 "metadata": {
  "kernelspec": {
   "display_name": "Python 3 (ipykernel)",
   "language": "python",
   "name": "python3"
  },
  "language_info": {
   "codemirror_mode": {
    "name": "ipython",
    "version": 3
   },
   "file_extension": ".py",
   "mimetype": "text/x-python",
   "name": "python",
   "nbconvert_exporter": "python",
   "pygments_lexer": "ipython3",
   "version": "3.10.6"
  }
 },
 "nbformat": 4,
 "nbformat_minor": 5
}
