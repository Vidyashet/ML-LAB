{
 "cells": [
  {
   "cell_type": "code",
   "execution_count": 7,
   "id": "b4571695",
   "metadata": {},
   "outputs": [
    {
     "name": "stdout",
     "output_type": "stream",
     "text": [
      "Enter the number of elements: 5\n",
      "Enter the elements: 3\n",
      "Enter the elements: 3\n",
      "Enter the elements: 2\n",
      "Enter the elements: 1\n",
      "Enter the elements: 1\n",
      "Mean: 2.0\n"
     ]
    }
   ],
   "source": [
    "data=[];\n",
    "n=int(input(\"Enter the number of elements: \"))\n",
    "for i in range (0,n):\n",
    "    e=int(input(\"Enter the elements: \"));\n",
    "    data.append(e)\n",
    "sum=0;\n",
    "for i in data:\n",
    "    sum+=i;\n",
    "mean=sum/len(data);\n",
    "print(\"Mean:\",mean)"
   ]
  },
  {
   "cell_type": "code",
   "execution_count": 8,
   "id": "7c353cb9",
   "metadata": {},
   "outputs": [
    {
     "name": "stdout",
     "output_type": "stream",
     "text": [
      "Median: 2\n"
     ]
    }
   ],
   "source": [
    "data.sort()\n",
    "if n % 2 == 0 :\n",
    "    mdn1=data[n//2]\n",
    "    mdn2=data[n//2 -1]\n",
    "    median=(mdn1+mdn2)/2\n",
    "else:\n",
    "    median=data[n//2]\n",
    "print(\"Median:\",median)"
   ]
  },
  {
   "cell_type": "code",
   "execution_count": 9,
   "id": "33af70de",
   "metadata": {},
   "outputs": [
    {
     "data": {
      "text/plain": [
       "[1, 3]"
      ]
     },
     "execution_count": 9,
     "metadata": {},
     "output_type": "execute_result"
    }
   ],
   "source": [
    "def mode(data):\n",
    "    frequency= { }\n",
    "    for n in data:\n",
    "        frequency.setdefault(n,0)\n",
    "        frequency[n]+=1\n",
    "    highfreq=max(frequency.values())\n",
    "    highfreqlst=[]\n",
    "   \n",
    "    for n,freq in frequency.items():\n",
    "        if freq==highfreq:\n",
    "            highfreqlst.append(n)\n",
    "    return highfreqlst\n",
    "mode(data)"
   ]
  },
  {
   "cell_type": "code",
   "execution_count": 10,
   "id": "108d9965",
   "metadata": {},
   "outputs": [
    {
     "name": "stdout",
     "output_type": "stream",
     "text": [
      "Varience:  0.8\n"
     ]
    }
   ],
   "source": [
    "s=0;\n",
    "for i in data:\n",
    "    s+=((i-mean)**2)\n",
    "var=s/len(data)\n",
    "print(\"Varience: \",var)"
   ]
  },
  {
   "cell_type": "code",
   "execution_count": 11,
   "id": "81168536",
   "metadata": {},
   "outputs": [
    {
     "name": "stdout",
     "output_type": "stream",
     "text": [
      "Standard deviation:  0.8944271909999159\n"
     ]
    }
   ],
   "source": [
    "sd=var**0.5\n",
    "print(\"Standard deviation: \",sd)"
   ]
  },
  {
   "cell_type": "code",
   "execution_count": null,
   "id": "8e92fba9",
   "metadata": {},
   "outputs": [],
   "source": []
  },
  {
   "cell_type": "code",
   "execution_count": null,
   "id": "7641fe95",
   "metadata": {},
   "outputs": [],
   "source": []
  }
 ],
 "metadata": {
  "kernelspec": {
   "display_name": "Python 3 (ipykernel)",
   "language": "python",
   "name": "python3"
  },
  "language_info": {
   "codemirror_mode": {
    "name": "ipython",
    "version": 3
   },
   "file_extension": ".py",
   "mimetype": "text/x-python",
   "name": "python",
   "nbconvert_exporter": "python",
   "pygments_lexer": "ipython3",
   "version": "3.10.4"
  }
 },
 "nbformat": 4,
 "nbformat_minor": 5
}
