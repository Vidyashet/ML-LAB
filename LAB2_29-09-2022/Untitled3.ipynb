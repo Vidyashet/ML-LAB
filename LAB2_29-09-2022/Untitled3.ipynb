{
 "cells": [
  {
   "cell_type": "code",
   "execution_count": 1,
   "id": "7166dd53",
   "metadata": {},
   "outputs": [
    {
     "name": "stdout",
     "output_type": "stream",
     "text": [
      "Enter the number of elements: 6\n",
      "Enter the elements: 1\n",
      "Enter the elements: 2\n",
      "Enter the elements: 3\n",
      "Enter the elements: 4\n",
      "Enter the elements: 5\n",
      "Enter the elements: 6\n",
      "-2.0\n",
      "-1.0\n",
      "0.0\n",
      "1.0\n",
      "2.0\n",
      "3.0\n"
     ]
    }
   ],
   "source": [
    "#standardisation\n",
    "data=[];\n",
    "n=int(input(\"Enter the number of elements: \"));\n",
    "for i in range(0,n):\n",
    "    e=int(input(\"Enter the elements: \"));\n",
    "    data.append(e)\n",
    "mean=sum(data)//n\n",
    "var=0;\n",
    "for i in data:\n",
    "    var=var+(i-mean)++2\n",
    "    variance=var//n\n",
    "    sd=variance*0.5\n",
    "for j in data:\n",
    "    std=(j-mean)//sd\n",
    "    print(std)"
   ]
  },
  {
   "cell_type": "code",
   "execution_count": 3,
   "id": "7f189d2f",
   "metadata": {},
   "outputs": [
    {
     "name": "stdout",
     "output_type": "stream",
     "text": [
      "Minimum value is  1\n",
      "Maximum value is  6\n",
      "0.0\n",
      "0.2\n",
      "0.4\n",
      "0.6\n",
      "0.8\n",
      "1.0\n"
     ]
    }
   ],
   "source": [
    "#normalization\n",
    "minimum =min(data)\n",
    "print(\"Minimum value is \",minimum)\n",
    "maximum =max(data)\n",
    "print(\"Maximum value is \",maximum)\n",
    "for i in data:\n",
    "    normal=(i-minimum)/(maximum -minimum)\n",
    "    print(normal)"
   ]
  },
  {
   "cell_type": "code",
   "execution_count": null,
   "id": "fed92d68",
   "metadata": {},
   "outputs": [],
   "source": []
  },
  {
   "cell_type": "code",
   "execution_count": null,
   "id": "78c133a9",
   "metadata": {},
   "outputs": [],
   "source": []
  }
 ],
 "metadata": {
  "kernelspec": {
   "display_name": "Python 3 (ipykernel)",
   "language": "python",
   "name": "python3"
  },
  "language_info": {
   "codemirror_mode": {
    "name": "ipython",
    "version": 3
   },
   "file_extension": ".py",
   "mimetype": "text/x-python",
   "name": "python",
   "nbconvert_exporter": "python",
   "pygments_lexer": "ipython3",
   "version": "3.10.4"
  }
 },
 "nbformat": 4,
 "nbformat_minor": 5
}
